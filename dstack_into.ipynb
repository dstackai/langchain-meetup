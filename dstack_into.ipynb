{
 "cells": [
  {
   "attachments": {},
   "cell_type": "markdown",
   "metadata": {},
   "source": [
    "# How does dstack come into play?\n",
    "\n",
    "Because we'll run our app in the cloud, we'll use `dstack` to simplify app development.\n",
    "\n",
    "`dstack` does two things:\n",
    "\n",
    "1. Launch dev environments in the cloud\n",
    "2. Run ML tasks in the cloud (web apps, batch jobs, training, finetuening, etc)"
   ]
  },
  {
   "attachments": {},
   "cell_type": "markdown",
   "metadata": {},
   "source": [
    "### Dev environments with dstack\n",
    "\n",
    "In order to run the Falcon-7B LLM, we'll need a machine with at least `24GB` of GPU memory, and `48GB` of RAM.\n",
    "\n",
    "Creating a dev environment with `dstack`:\n",
    "\n",
    "1. Define required resources [`.dstack/profiles.yml`](.dstack/profiles.yml)\n",
    "\n",
    "```yaml\n",
    "profiles:\n",
    "  - name: gcp-large\n",
    "    project: gcp\n",
    "    resources:\n",
    "      memory: 48GB\n",
    "      gpu:\n",
    "        memory: 24GB\n",
    "    default: true\n",
    "```\n",
    "\n",
    "> **Note:**\n",
    "> Make sure you've [configured](https://dstack.ai/docs/guides/projects) a GCP project named `gcp`.\n",
    "\n",
    "2. Define the dev environment [`.dstack.yml`](.dstack.yml)\n",
    "3. Launch it via `dstack run .`\n",
    "\n",
    "It will set up a cloud instance and forward its ports to our local machine for easy access."
   ]
  },
  {
   "attachments": {},
   "cell_type": "markdown",
   "metadata": {},
   "source": [
    "### Automating tasks with dstack\n",
    "\n",
    "Here's an example of a task that launches an app for development and testing purposes.\n",
    "\n",
    "Running app.py in the cloud with `dstack`:\n",
    "\n",
    "1. Define the task [`app.dstack.yml`](app.dstack.yml)\n",
    "2. Launch it via `dstack run . -f app.dstack.yml  --reload`\n",
    "\n",
    "It will run the app in the cloud and forward its ports to our local machine for easy access.\n",
    "\n",
    "The `--reload` option enables real-time reloading of local changes in the cloud-based app.\n",
    "\n",
    "Use cases for tasks:\n",
    "\n",
    "1. Running web-apps for dev and testing purposes\n",
    "2. Running data processing batch jobs\n",
    "3. Runnign training or finetuning jobs"
   ]
  }
 ],
 "metadata": {
  "kernelspec": {
   "display_name": "venv",
   "language": "python",
   "name": "python3"
  },
  "language_info": {
   "codemirror_mode": {
    "name": "ipython",
    "version": 3
   },
   "file_extension": ".py",
   "mimetype": "text/x-python",
   "name": "python",
   "nbconvert_exporter": "python",
   "pygments_lexer": "ipython3",
   "version": "3.10.10"
  },
  "orig_nbformat": 4
 },
 "nbformat": 4,
 "nbformat_minor": 2
}
